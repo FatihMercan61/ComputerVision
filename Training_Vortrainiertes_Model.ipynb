{
  "cells": [
    {
      "cell_type": "markdown",
      "source": [
        "# evtl. TO DO --> Pfade anpassen; Batchsize, BIldgröße, Epochanzahl bestimmen"
      ],
      "metadata": {
        "id": "kiRduLS6YFpG"
      }
    },
    {
      "cell_type": "code",
      "source": [
        "data_dir=r'/content/drive/MyDrive/ComputerVision/' # Hier sind die Daten gespeichert. Der Ordner \"ComputerVision\" sollte jeweilis zu jeder Klasse einen unterordner enthalten -->zB. ComptuerVision/Auto und CoputerVison/keinAuto\n",
        "base_path_für_logs_und_callbacks = r\"/content/drive/MyDrive/Callbacks_und_Logs\" # in diesem Ordner werden die Trainingsergebnisse des tages gespeichert\n",
        "base_path_für_eingestellte_parameter = r\"/content/drive/MyDrive/Eingestellte_parameter\" #hier werden die Parameter gespeichert, die wir dokumentieren sollen"
      ],
      "metadata": {
        "id": "QL1_WwGFUDRn"
      },
      "execution_count": null,
      "outputs": []
    },
    {
      "cell_type": "code",
      "source": [
        "from google.colab import drive\n",
        "drive.mount('/content/drive')"
      ],
      "metadata": {
        "colab": {
          "base_uri": "https://localhost:8080/"
        },
        "id": "Q13U_BKPGKfz",
        "outputId": "1535f322-fcbd-4530-e656-00f61f5ac5ef"
      },
      "execution_count": null,
      "outputs": [
        {
          "output_type": "stream",
          "name": "stdout",
          "text": [
            "Mounted at /content/drive\n"
          ]
        }
      ]
    },
    {
      "cell_type": "markdown",
      "source": [
        "### Folgende grosgeschreibenen Parameter sind zu Dokumentieren (von Libewirth aus)\n",
        "--> werden automatisch in parameter.txt datei gespeichert (speicherort:base_path_für_eingestellte_parameter)\n",
        "- Batchsize\n",
        "- Epochen anzahl\n",
        "- Input resulution (laut ChatGPT--> Die bildgröße, also der paraemter PIC_SIZE)\n",
        "\n",
        "Hinweis: LearningRate wird beim Modeltraining bestimmt"
      ],
      "metadata": {
        "id": "HT3aZYrgdI6c"
      }
    },
    {
      "cell_type": "code",
      "source": [
        "BATCH_SIZE = 32\n",
        "# bei vortrainiertem Model PIC_SIZE nicht ändern!!!\n",
        "PIC_SIZE = 224 # Annahme viereckiges Bild zb. WEnn PIC_SIZE=500 dann sind die bilder 500x500 pixel;\n",
        "EPOCH_ANZAHL = 50\n",
        "LEARNING_RATE =\n",
        "\n",
        "# Nicht zu dokumentieren\n",
        "größe_trainingsdatensatz = 0.2 # prozentuale größe des trainingsdatensatz\n",
        "größe_validierungsdatensatz = 0.2 # prozentuale größe des validierungsdatensatz"
      ],
      "metadata": {
        "id": "GG0i9QWoYrxQ"
      },
      "execution_count": null,
      "outputs": []
    },
    {
      "cell_type": "markdown",
      "source": [
        "# Importe\n",
        "Evtl. müssen hier bibliotheken installiert werden, wie z.B. pip install keras_tuner"
      ],
      "metadata": {
        "id": "vSw-hKDGYL94"
      }
    },
    {
      "cell_type": "code",
      "execution_count": null,
      "metadata": {
        "id": "izn7lspRDzbt"
      },
      "outputs": [],
      "source": [
        "import tensorflow as tf\n",
        "import time\n",
        "from time import localtime\n",
        "import os\n",
        "import cv2\n",
        "import imghdr\n",
        "import matplotlib.pyplot as plt\n",
        "import numpy as np\n",
        "import random\n",
        "from keras.callbacks import TensorBoard, CSVLogger, ModelCheckpoint, EarlyStopping\n",
        "import pandas as pd\n",
        "from tensorflow.keras.models import Sequential\n",
        "from tensorflow.keras.layers import Conv2D, MaxPooling2D, Dense, Flatten, Dropout, Activation\n",
        "from tensorflow.keras.applications.vgg16 import preprocess_input\n",
        "from sklearn.model_selection import StratifiedShuffleSplit\n",
        "from keras.callbacks import TensorBoard, CSVLogger, ModelCheckpoint, EarlyStopping"
      ]
    },
    {
      "cell_type": "markdown",
      "source": [
        "# Prüfung ob GPU genutzt wird --> siehe Ausgabe der Zelle"
      ],
      "metadata": {
        "id": "yfOcqnQbYOJk"
      }
    },
    {
      "cell_type": "code",
      "execution_count": null,
      "metadata": {
        "colab": {
          "base_uri": "https://localhost:8080/"
        },
        "id": "m2weHXd2Dzbu",
        "outputId": "f727ee3b-897c-4ce3-d5cd-dde2a89bd96c"
      },
      "outputs": [
        {
          "output_type": "stream",
          "name": "stdout",
          "text": [
            "GPU is available\n"
          ]
        }
      ],
      "source": [
        "gpu = len(tf.config.list_physical_devices('GPU'))>0\n",
        "print(\"GPU is\", \"available\" if gpu else \"NOT AVAILABLE\")\n",
        "\n",
        "seed_value = 0\n",
        "random.seed(seed_value)\n",
        "np.random.seed(seed_value)\n",
        "tf.random.set_seed(seed_value)"
      ]
    },
    {
      "cell_type": "markdown",
      "source": [
        "# FKT um Trainingsergebnisse und eingestellte Parameter abzuspeichern abzuspeichern"
      ],
      "metadata": {
        "id": "UQkMCbbQUGxr"
      }
    },
    {
      "cell_type": "code",
      "source": [
        "# neue path werden angelegt\n",
        "def path_erzeuger(basepath, anzuhängender_foldername, zuspeichernder_file_name=None):\n",
        "  path = os.path.join(basepath, anzuhängender_foldername)\n",
        "  os.makedirs(path, exist_ok = True)\n",
        "  return path"
      ],
      "metadata": {
        "id": "DnyW5xslVnt0"
      },
      "execution_count": null,
      "outputs": []
    },
    {
      "cell_type": "code",
      "source": [
        "def parameter_in_datei_speichern(ordner_pfad, datei_name, parameter_dict):\n",
        "    datei_pfad = f'{ordner_pfad}/{datei_name}'\n",
        "\n",
        "    # Öffnen der Datei im Schreibmodus ('w')\n",
        "    with open(datei_pfad, 'w') as datei:\n",
        "        # Schreiben der Parameter in die Datei\n",
        "        for key, value in parameter_dict.items():\n",
        "            datei.write(f'{key}: {value}\\n')"
      ],
      "metadata": {
        "id": "kQGxqU5M9krZ"
      },
      "execution_count": null,
      "outputs": []
    },
    {
      "cell_type": "code",
      "source": [
        "# zeiten\n",
        "tag_monat = time.strftime(\"%d.%b\", localtime())\n",
        "stunde_minute = time.strftime(\"%Hh_%Mm\", localtime())\n",
        "stunde_minute_sekunde = time.strftime(\"%Hh_%Mm_%Ss\", localtime())"
      ],
      "metadata": {
        "id": "vQgpOWz5UGd-"
      },
      "execution_count": null,
      "outputs": []
    },
    {
      "cell_type": "markdown",
      "source": [
        "### Path für Trainingsordner"
      ],
      "metadata": {
        "id": "2k0wWV0L9Yyu"
      }
    },
    {
      "cell_type": "code",
      "source": [
        "\"\"\"\n",
        "# path für hptuning\n",
        "callbacks_für_hptuning = path_erzeuger(basepath=base_path_für_logs_und_callbacks , anzuhängender_foldername = f\"HP_Tuning_am_{tag_monat}\")\n",
        "\n",
        "# ordner im hptuning path\n",
        "tensorboard_path_hptuning = path_erzeuger(callbacks_für_hptuning, f\"TensorBoard_{stunde_minute_sekunde}\")\n",
        "hp_tuning_path = path_erzeuger(basepath=callbacks_für_hptuning, anzuhängender_foldername = f\"hp_tuning_log_am_{stunde_minute_sekunde}\")\n",
        "\"\"\""
      ],
      "metadata": {
        "id": "_807xcDDBU6E"
      },
      "execution_count": null,
      "outputs": []
    },
    {
      "cell_type": "code",
      "source": [
        "#path für callbacks\n",
        "callbacks_des_tages =  path_erzeuger(basepath=base_path_für_logs_und_callbacks , anzuhängender_foldername = f\"Vortrainiertes_Modell_Callbacks_am_{tag_monat}\") # für jeden tag wird ein ordern angelegt\n",
        "\n",
        "# ordner im callbacks path\n",
        "tensorboard_path_beste_modelle = path_erzeuger(callbacks_des_tages, f\"TensorBoard_{stunde_minute_sekunde}\")\n",
        "checkpoint_path_für_bestes_model = path_erzeuger(callbacks_des_tages ,f\"Checkpoint_{stunde_minute_sekunde}\")"
      ],
      "metadata": {
        "colab": {
          "base_uri": "https://localhost:8080/"
        },
        "id": "txC-JhNS9WIp",
        "outputId": "63b305e6-ffd6-4386-d52e-d0e407bfbd28"
      },
      "execution_count": null,
      "outputs": [
        {
          "output_type": "execute_result",
          "data": {
            "text/plain": [
              "'\\n#path für callbacks\\ncallbacks_des_tages =  path_erzeuger(basepath=base_path_für_logs_und_callbacks , anzuhängender_foldername = f\"Callbacks_am_{tag_monat}\") # für jeden tag wird ein ordern angelegt\\n\\n# ordner im callbacks path\\ntensorboard_path_beste_modelle = path_erzeuger(callbacks_des_tages, f\"TensorBoard_{stunde_minute_sekunde}\")\\ncheckpoint_path_für_bestes_model = path_erzeuger(callbacks_des_tages ,f\"Checkpoint_{stunde_minute_sekunde}\")\\n'"
            ],
            "application/vnd.google.colaboratory.intrinsic+json": {
              "type": "string"
            }
          },
          "metadata": {},
          "execution_count": 11
        }
      ]
    },
    {
      "cell_type": "markdown",
      "source": [
        "### Path für eingestellte Parameter"
      ],
      "metadata": {
        "id": "fShfEty39e8_"
      }
    },
    {
      "cell_type": "code",
      "source": [
        "festgelegte_parameter = {\n",
        "    \"learning_rate\":LEARNING_RATE,\n",
        "    \"batch_size\": BATCH_SIZE,\n",
        "    \"epochs\": EPOCH_ANZAHL,\n",
        "    \"bildsize\": PIC_SIZE,\n",
        "    \"testdatensatz_size\":größe_trainingsdatensatz,\n",
        "    \"valdatensatz_size\":größe_validierungsdatensatz,\n",
        "}\n",
        "\"\"\"\n",
        "parameter_bei_hptuning = path_erzeuger(basepath=base_path_für_eingestellte_parameter , anzuhängender_foldername = f\"HP_Tuning_am_{tag_monat}\")\n",
        "parameter_in_datei_speichern(ordner_pfad=parameter_bei_hptuning, datei_name=f\"Parameter_um_{stunde_minute_sekunde}.txt\", parameter_dict=festgelegte_parameter)\n",
        "\n",
        "\"\"\"\n",
        "parameter_bei_modeltraining = path_erzeuger(basepath=base_path_für_eingestellte_parameter , anzuhängender_foldername = f\"Modeltraining_am_{tag_monat}\")\n",
        "parameter_in_datei_speichern(ordner_pfad=parameter_bei_modeltraining, datei_name=f\"Parameter_um_{stunde_minute_sekunde}.txt\", parameter_dict=festgelegte_parameter)"
      ],
      "metadata": {
        "colab": {
          "base_uri": "https://localhost:8080/",
          "height": 55
        },
        "id": "T_9aKNFS9eMb",
        "outputId": "0599539d-f3d4-41a9-83bb-e83b5985aedd"
      },
      "execution_count": null,
      "outputs": [
        {
          "output_type": "execute_result",
          "data": {
            "text/plain": [
              "'\\nparameter_bei_modeltraining = path_erzeuger(basepath=base_path_für_eingestellte_parameter , anzuhängender_foldername = f\"Modeltraining_am_{tag_monat}\")\\nparameter_in_datei_speichern(ordner_pfad=parameter_bei_modeltraining, datei_name=f\"Parameter_um_{stunde_minute_sekunde}.txt\", parameter_dict=festgelegte_parameter)\\n'"
            ],
            "application/vnd.google.colaboratory.intrinsic+json": {
              "type": "string"
            }
          },
          "metadata": {},
          "execution_count": 12
        }
      ]
    },
    {
      "cell_type": "markdown",
      "source": [
        "# Daten hochladen"
      ],
      "metadata": {
        "id": "-xzdFsDmVVHD"
      }
    },
    {
      "cell_type": "code",
      "execution_count": null,
      "metadata": {
        "id": "5zWRTd7EDzbw"
      },
      "outputs": [],
      "source": [
        "image_exts = ['jpeg', 'jpg', 'png']\n",
        "# data_dir = 'data' # Für Windows-Rechner\n",
        "\n",
        "for image_class in os.listdir(data_dir):\n",
        "    class_path = os.path.join(data_dir, image_class)\n",
        "\n",
        "    if os.path.isdir(class_path):\n",
        "        for image in os.listdir(class_path):\n",
        "            image_path = os.path.join(class_path, image)\n",
        "\n",
        "            if os.path.isfile(image_path):\n",
        "                _, file_ext = os.path.splitext(image_path) # check the file ending\n",
        "                file_ext = file_ext[1:].lower()\n",
        "                image_type = imghdr.what(image_path) # imghdr checks out if it is a image file\n",
        "\n",
        "                if file_ext not in image_exts or not image_type:\n",
        "                    print('File not in image extensions list or not a valid image: {}'.format(image_path))\n",
        "                    os.remove(image_path)"
      ]
    },
    {
      "cell_type": "markdown",
      "metadata": {
        "id": "4F6WQsdlDzbz"
      },
      "source": [
        "# Preprocessing data"
      ]
    },
    {
      "cell_type": "code",
      "execution_count": null,
      "metadata": {
        "colab": {
          "base_uri": "https://localhost:8080/"
        },
        "id": "JnX-KmsODzbz",
        "outputId": "eb09af03-0516-4586-f2ef-dc97224c8265"
      },
      "outputs": [
        {
          "output_type": "stream",
          "name": "stdout",
          "text": [
            "Found 852 files belonging to 2 classes.\n"
          ]
        }
      ],
      "source": [
        "data = tf.keras.utils.image_dataset_from_directory(\n",
        "    data_dir,\n",
        "    image_size=(224, 224),\n",
        "    label_mode=\"binary\",\n",
        "    shuffle=True,\n",
        "    seed=0\n",
        ")\n"
      ]
    },
    {
      "cell_type": "markdown",
      "metadata": {
        "id": "XYGxm7uRDzbz"
      },
      "source": [
        "## Daten splitten in Train, Test, val"
      ]
    },
    {
      "cell_type": "code",
      "source": [
        "# umwandlung in numpy array um die funktion StratifiedShuffleSplit von sklearn auf den datensatz anwenden zu können. Dadurch wird der das verhältnis der klassen bewahrt\n",
        "features = []\n",
        "labels = []\n",
        "for image_batch, label_batch in data:\n",
        "    features.extend(image_batch.numpy())\n",
        "    labels.extend(label_batch.numpy())\n",
        "\n",
        "features = np.array(features)\n",
        "labels = np.array(labels)\n",
        "\n",
        "# abspaltung testdaten\n",
        "abspaltung_test = StratifiedShuffleSplit(n_splits=1, test_size=größe_trainingsdatensatz, random_state=0)\n",
        "train_val_index, test_index = next(abspaltung_test.split(features, labels))\n",
        "X_train_val, X_test = features[train_val_index], features[test_index]\n",
        "y_train_val, y_test = labels[train_val_index], labels[test_index]\n",
        "\n",
        "# aufteilung val und train\n",
        "aufteilung_train_val = StratifiedShuffleSplit(n_splits=1, test_size=größe_validierungsdatensatz, random_state=0)\n",
        "train_index, val_index = next(aufteilung_train_val.split(X_train_val, y_train_val))\n",
        "\n",
        "# Aufteilung der Trainings- und Validierungsdaten\n",
        "X_train, X_val = X_train_val[train_index], X_train_val[val_index]\n",
        "y_train, y_val = y_train_val[train_index], y_train_val[val_index]\n",
        "\n",
        "X_train.shape, y_train.shape, X_val.shape, y_val.shape, X_test.shape, y_test.shape\n"
      ],
      "metadata": {
        "colab": {
          "base_uri": "https://localhost:8080/"
        },
        "id": "DlkRxPcv5ZWy",
        "outputId": "30504b59-f250-472a-ba94-f7cf84b3c2e3"
      },
      "execution_count": null,
      "outputs": [
        {
          "output_type": "execute_result",
          "data": {
            "text/plain": [
              "((544, 224, 224, 3),\n",
              " (544, 1),\n",
              " (137, 224, 224, 3),\n",
              " (137, 1),\n",
              " (171, 224, 224, 3),\n",
              " (171, 1))"
            ]
          },
          "metadata": {},
          "execution_count": 15
        }
      ]
    },
    {
      "cell_type": "markdown",
      "source": [
        "## Daten verarbeiten"
      ],
      "metadata": {
        "id": "ghqF_-Zg5W-m"
      }
    },
    {
      "cell_type": "code",
      "source": [
        "X_train = preprocess_input(X_train)\n",
        "X_val = preprocess_input(X_val)\n",
        "X_test = preprocess_input(X_test)"
      ],
      "metadata": {
        "id": "n7bhBJSU_oU1"
      },
      "execution_count": null,
      "outputs": []
    },
    {
      "cell_type": "code",
      "source": [
        "# Erstelle tf.data.Dataset\n",
        "train_dataset = tf.data.Dataset.from_tensor_slices((X_train, y_train))\n",
        "val_dataset = tf.data.Dataset.from_tensor_slices((X_val, y_val))\n",
        "test_dataset = tf.data.Dataset.from_tensor_slices((X_test, y_test))"
      ],
      "metadata": {
        "id": "-e63eaBKEBVs"
      },
      "execution_count": null,
      "outputs": []
    },
    {
      "cell_type": "code",
      "source": [
        "# shuffle, batch\n",
        "train_data = train_dataset.shuffle(buffer_size=1000).batch(BATCH_SIZE).prefetch(tf.data.experimental.AUTOTUNE)\n",
        "test_data = test_dataset.batch(BATCH_SIZE).prefetch(tf.data.experimental.AUTOTUNE)\n",
        "val_data = val_dataset.batch(BATCH_SIZE).prefetch(tf.data.experimental.AUTOTUNE)"
      ],
      "metadata": {
        "id": "iTDv-6nyE2N8"
      },
      "execution_count": null,
      "outputs": []
    },
    {
      "cell_type": "code",
      "source": [
        "\"\"\"\n",
        "for element in val_data:\n",
        "  print(element)\n",
        "  break\n",
        "\"\"\""
      ],
      "metadata": {
        "colab": {
          "base_uri": "https://localhost:8080/"
        },
        "id": "DzgddIOHMIds",
        "outputId": "b0130112-2445-49c8-8eaf-3cc270f0ec0d"
      },
      "execution_count": null,
      "outputs": [
        {
          "output_type": "execute_result",
          "data": {
            "text/plain": [
              "'\\nfor element in val_data:\\n  print(element)\\n  break\\n'"
            ],
            "application/vnd.google.colaboratory.intrinsic+json": {
              "type": "string"
            }
          },
          "metadata": {},
          "execution_count": 19
        }
      ]
    },
    {
      "cell_type": "code",
      "execution_count": null,
      "metadata": {
        "colab": {
          "base_uri": "https://localhost:8080/"
        },
        "id": "qvYVFvNdDzbz",
        "outputId": "31a8cafc-134d-4932-8408-87946afa5528"
      },
      "outputs": [
        {
          "output_type": "execute_result",
          "data": {
            "text/plain": [
              "\"\\nfor image, label in train_dataset.take(5):\\n    plt.figure()\\n    img = image.numpy()\\n    img/=255\\n    plt.imshow(img)\\n    plt.title(f'Label: {label.numpy()}')\\n    plt.axis('off')\\n    plt.show()\\n\""
            ],
            "application/vnd.google.colaboratory.intrinsic+json": {
              "type": "string"
            }
          },
          "metadata": {},
          "execution_count": 20
        }
      ],
      "source": [
        "\"\"\"\n",
        "for image, label in train_dataset.take(5):\n",
        "    plt.figure()\n",
        "    img = image.numpy()\n",
        "    img/=255\n",
        "    plt.imshow(img)\n",
        "    plt.title(f'Label: {label.numpy()}')\n",
        "    plt.axis('off')\n",
        "    plt.show()\n",
        "\"\"\""
      ]
    },
    {
      "cell_type": "markdown",
      "source": [
        "# Model Erstellung"
      ],
      "metadata": {
        "id": "cLbArKTYJIc-"
      }
    },
    {
      "cell_type": "code",
      "execution_count": null,
      "metadata": {
        "colab": {
          "base_uri": "https://localhost:8080/"
        },
        "id": "4FoiHpZmDzb1",
        "outputId": "53ecd3d5-c2d7-494b-99b9-1300881eba64"
      },
      "outputs": [
        {
          "output_type": "stream",
          "name": "stdout",
          "text": [
            "Downloading data from https://storage.googleapis.com/tensorflow/keras-applications/vgg16/vgg16_weights_tf_dim_ordering_tf_kernels.h5\n",
            "553467096/553467096 [==============================] - 25s 0us/step\n"
          ]
        }
      ],
      "source": [
        "vgg_model = tf.keras.applications.VGG16(weights=\"imagenet\", include_top=True, input_shape=(224, 224, 3))\n",
        "\n",
        "model = Sequential()\n",
        "model.add(vgg_model)\n",
        "\n",
        "# weitere layer müssen hinzugefügt werden --> Anzahl,Größe dieser Layer wird mit dem HP_tuning des Vortrainierten models bestimmt\n",
        "\n",
        "model.add(Dense(units=, kernel_initializer=\"he_normal\"))\n",
        "model.add(Activation(\"relu\"))\n",
        "model.add(Dense(units=1))\n",
        "model.add(Activation(\"softmax\"))\n"
      ]
    },
    {
      "cell_type": "code",
      "source": [
        "model.compile(loss = \"binary_crossentropy\",\n",
        "              optimizer = tf.keras.optimizers.Adam(learning_rate=LEARNING_RATE), # learning_rate aus HP_TUNING\n",
        "               metrics = [\"accuracy\"])"
      ],
      "metadata": {
        "id": "Q04MKOcjd-0I"
      },
      "execution_count": null,
      "outputs": []
    },
    {
      "cell_type": "code",
      "source": [
        "# callbacks\n",
        "best_model = ModelCheckpoint(checkpoint_path_für_bestes_model,monitor\"val_auc\", save_best_only=True, mode=\"max\")\n",
        "early_stop = EarlyStopping(monitor='val_acc',patience=10,mode='max')\n",
        "tensorboard= TensorBoard(log_dir=tensorboard_path_beste_modelle)\n",
        "alle_callbacks=[best_model,early_stop,tensorboard]"
      ],
      "metadata": {
        "id": "kthYdfTNexwe"
      },
      "execution_count": null,
      "outputs": []
    },
    {
      "cell_type": "code",
      "source": [
        "model.fit(train_data, batch_size=BATCH_SIZE, validation_data=val_data, epochs=ANZAHL_EPOCHS, callbacks=alle_callbacks)"
      ],
      "metadata": {
        "id": "FZDX7MFKbUfI"
      },
      "execution_count": null,
      "outputs": []
    }
  ],
  "metadata": {
    "kernelspec": {
      "display_name": "Python 3",
      "name": "python3"
    },
    "language_info": {
      "codemirror_mode": {
        "name": "ipython",
        "version": 3
      },
      "file_extension": ".py",
      "mimetype": "text/x-python",
      "name": "python",
      "nbconvert_exporter": "python",
      "pygments_lexer": "ipython3",
      "version": "3.11.0"
    },
    "colab": {
      "provenance": [],
      "gpuType": "T4"
    },
    "accelerator": "GPU"
  },
  "nbformat": 4,
  "nbformat_minor": 0
}