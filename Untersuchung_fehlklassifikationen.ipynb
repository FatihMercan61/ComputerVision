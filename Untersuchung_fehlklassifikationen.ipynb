{
  "cells": [
    {
      "cell_type": "markdown",
      "source": [
        "# evtl. TO DO --> Pfade anpassen"
      ],
      "metadata": {
        "id": "kiRduLS6YFpG"
      }
    },
    {
      "cell_type": "code",
      "source": [
        "data_dir=r'/content/drive/MyDrive/ComputerVision/' # Hier sind die Daten gespeichert. Der Ordner \"ComputerVision\" sollte jeweilis zu jeder Klasse einen unterordner enthalten -->zB. ComptuerVision/Auto und CoputerVison/keinAuto\n",
        "model_pfad = r\"\" # in diesem Ordner werden die besten modelle des modeltrainings abgespeichert"
      ],
      "metadata": {
        "id": "QL1_WwGFUDRn"
      },
      "execution_count": null,
      "outputs": []
    },
    {
      "cell_type": "code",
      "source": [
        "from google.colab import drive\n",
        "drive.mount('/content/drive')"
      ],
      "metadata": {
        "colab": {
          "base_uri": "https://localhost:8080/"
        },
        "id": "Q13U_BKPGKfz",
        "outputId": "cb161568-0e55-4357-9a3b-f9f48312b3bd"
      },
      "execution_count": null,
      "outputs": [
        {
          "output_type": "stream",
          "name": "stdout",
          "text": [
            "Mounted at /content/drive\n"
          ]
        }
      ]
    },
    {
      "cell_type": "markdown",
      "source": [
        "# Importe\n",
        "Evtl. müssen hier bibliotheken installiert werden, wie z.B. pip install keras_tuner"
      ],
      "metadata": {
        "id": "vSw-hKDGYL94"
      }
    },
    {
      "cell_type": "code",
      "execution_count": null,
      "metadata": {
        "id": "izn7lspRDzbt"
      },
      "outputs": [],
      "source": [
        "import tensorflow as tf\n",
        "import time\n",
        "from time import localtime\n",
        "import os\n",
        "import cv2\n",
        "import imghdr\n",
        "import matplotlib.pyplot as plt\n",
        "import numpy as np\n",
        "import random\n",
        "import pandas as pd\n",
        "from sklearn.tree import DecisionTreeClassifier\n",
        "from tensorflow.keras.models import load_model\n",
        "from sklearn.model_selection import StratifiedShuffleSplit\n",
        "from tensorflow.keras.applications.vgg16 import preprocess_input\n",
        "from sklearn.metrics import precision_score, accuracy_score, recall_score,confusion_matrix"
      ]
    },
    {
      "cell_type": "markdown",
      "source": [
        "# Prüfung ob GPU genutzt wird --> siehe Ausgabe der Zelle"
      ],
      "metadata": {
        "id": "yfOcqnQbYOJk"
      }
    },
    {
      "cell_type": "code",
      "execution_count": null,
      "metadata": {
        "colab": {
          "base_uri": "https://localhost:8080/"
        },
        "id": "m2weHXd2Dzbu",
        "outputId": "f727ee3b-897c-4ce3-d5cd-dde2a89bd96c"
      },
      "outputs": [
        {
          "output_type": "stream",
          "name": "stdout",
          "text": [
            "GPU is available\n"
          ]
        }
      ],
      "source": [
        "gpu = len(tf.config.list_physical_devices('GPU'))>0\n",
        "print(\"GPU is\", \"available\" if gpu else \"NOT AVAILABLE\")\n",
        "\n",
        "seed_value = 0\n",
        "random.seed(seed_value)\n",
        "np.random.seed(seed_value)\n",
        "tf.random.set_seed(seed_value)"
      ]
    },
    {
      "cell_type": "code",
      "source": [
        "BATCH_SIZE = 32\n",
        "# bei vortrainiertem Model PIC_SIZE nicht ändern!!!\n",
        "PIC_SIZE = 224 # Annahme viereckiges Bild zb. WEnn PIC_SIZE=500 dann sind die bilder 500x500 pixel;\n",
        "EPOCH_ANZAHL = 50\n",
        "\n",
        "# Nicht zu dokumentieren\n",
        "größe_trainingsdatensatz = 0.2 # prozentuale größe des trainingsdatensatz\n",
        "größe_validierungsdatensatz = 0.2 # prozentuale größe des validierungsdatensatz"
      ],
      "metadata": {
        "id": "SpVXSowDwusk"
      },
      "execution_count": null,
      "outputs": []
    },
    {
      "cell_type": "markdown",
      "source": [
        "# Validierung des Models"
      ],
      "metadata": {
        "id": "IeTwYkNUydY8"
      }
    },
    {
      "cell_type": "code",
      "source": [
        "def validiere_model(model, X_data, y_data):\n",
        "    prediction = model.predict(X_data)\n",
        "    acc = accuracy_score(y_data, prediction)\n",
        "    precision = precision_score(y_data, prediction)\n",
        "    recall = recall_score(y_data, prediction)\n",
        "    conf_matrix = confusion_matrix(y_data, prediction)\n",
        "\n",
        "    print(\"Accuracy: \",acc, \"\\n\")\n",
        "    print(\"Precision: \",precision, \"\\n\")\n",
        "    print(\"Recall: \",recall, \"\\n\")\n",
        "\n",
        "    plt.figure(figsize=(8, 6))\n",
        "    plt.imshow(conf_matrix, cmap='Blues', interpolation='nearest')\n",
        "    plt.colorbar()\n",
        "    plt.title('Confusion Matrix')\n",
        "    plt.xlabel('Predicted')\n",
        "    plt.ylabel('True')\n",
        "    plt.show()"
      ],
      "metadata": {
        "id": "7vyJgSWEyhEU"
      },
      "execution_count": null,
      "outputs": []
    },
    {
      "cell_type": "markdown",
      "source": [
        "# Daten hochladen"
      ],
      "metadata": {
        "id": "-xzdFsDmVVHD"
      }
    },
    {
      "cell_type": "code",
      "execution_count": null,
      "metadata": {
        "id": "5zWRTd7EDzbw"
      },
      "outputs": [],
      "source": [
        "image_exts = ['jpeg', 'jpg', 'png']\n",
        "# data_dir = 'data' # Für Windows-Rechner\n",
        "\n",
        "for image_class in os.listdir(data_dir):\n",
        "    class_path = os.path.join(data_dir, image_class)\n",
        "\n",
        "    if os.path.isdir(class_path):\n",
        "        for image in os.listdir(class_path):\n",
        "            image_path = os.path.join(class_path, image)\n",
        "\n",
        "            if os.path.isfile(image_path):\n",
        "                _, file_ext = os.path.splitext(image_path) # check the file ending\n",
        "                file_ext = file_ext[1:].lower()\n",
        "                image_type = imghdr.what(image_path) # imghdr checks out if it is a image file\n",
        "\n",
        "                if file_ext not in image_exts or not image_type:\n",
        "                    print('File not in image extensions list or not a valid image: {}'.format(image_path))\n",
        "                    os.remove(image_path)"
      ]
    },
    {
      "cell_type": "markdown",
      "metadata": {
        "id": "4F6WQsdlDzbz"
      },
      "source": [
        "# Preprocessing data"
      ]
    },
    {
      "cell_type": "code",
      "execution_count": null,
      "metadata": {
        "colab": {
          "base_uri": "https://localhost:8080/"
        },
        "id": "JnX-KmsODzbz",
        "outputId": "1f01d98f-3074-4ab8-f170-fa3efb78bdab"
      },
      "outputs": [
        {
          "output_type": "stream",
          "name": "stdout",
          "text": [
            "Found 852 files belonging to 2 classes.\n"
          ]
        }
      ],
      "source": [
        "data = tf.keras.utils.image_dataset_from_directory(\n",
        "    data_dir,\n",
        "    image_size=(PIC_SIZE, PIC_SIZE),\n",
        "    label_mode=\"binary\",\n",
        "    shuffle=True,\n",
        "    seed=0\n",
        ")"
      ]
    },
    {
      "cell_type": "markdown",
      "metadata": {
        "id": "XYGxm7uRDzbz"
      },
      "source": [
        "## Daten splitten in Train, Test, val"
      ]
    },
    {
      "cell_type": "code",
      "source": [
        "# umwandlung in numpy array um die funktion StratifiedShuffleSplit von sklearn auf den datensatz anwenden zu können. Dadurch wird der das verhältnis der klassen bewahrt\n",
        "features = []\n",
        "labels = []\n",
        "for image_batch, label_batch in data:\n",
        "    features.extend(image_batch.numpy())\n",
        "    labels.extend(label_batch.numpy())\n",
        "\n",
        "features = np.array(features)\n",
        "labels = np.array(labels)\n",
        "\n",
        "# abspaltung testdaten\n",
        "abspaltung_test = StratifiedShuffleSplit(n_splits=1, test_size=größe_trainingsdatensatz, random_state=0)\n",
        "train_val_index, test_index = next(abspaltung_test.split(features, labels))\n",
        "X_train_val, X_test = features[train_val_index], features[test_index]\n",
        "y_train_val, y_test = labels[train_val_index], labels[test_index]\n",
        "\n",
        "# aufteilung val und train\n",
        "aufteilung_train_val = StratifiedShuffleSplit(n_splits=1, test_size=größe_validierungsdatensatz, random_state=0)\n",
        "train_index, val_index = next(aufteilung_train_val.split(X_train_val, y_train_val))\n",
        "\n",
        "# Aufteilung der Trainings- und Validierungsdaten\n",
        "X_train, X_val = X_train_val[train_index], X_train_val[val_index]\n",
        "y_train, y_val = y_train_val[train_index], y_train_val[val_index]\n",
        "\n",
        "X_train = preprocess_input(X_train)\n",
        "X_val= preprocess_input(X_val)\n",
        "X_test = preprocess_input(X_test)\n",
        "\n",
        "X_train.shape, y_train.shape, X_val.shape, y_val.shape, X_test.shape, y_test.shape\n"
      ],
      "metadata": {
        "colab": {
          "base_uri": "https://localhost:8080/"
        },
        "id": "DlkRxPcv5ZWy",
        "outputId": "afebd590-56a9-434b-a086-68de3fd5ea75"
      },
      "execution_count": null,
      "outputs": [
        {
          "output_type": "execute_result",
          "data": {
            "text/plain": [
              "((544, 224, 224, 3),\n",
              " (544, 1),\n",
              " (137, 224, 224, 3),\n",
              " (137, 1),\n",
              " (171, 224, 224, 3),\n",
              " (171, 1))"
            ]
          },
          "metadata": {},
          "execution_count": 12
        }
      ]
    },
    {
      "cell_type": "markdown",
      "source": [
        "# Model Hochladen und validieren"
      ],
      "metadata": {
        "id": "cLbArKTYJIc-"
      }
    },
    {
      "cell_type": "code",
      "source": [
        "model = load_model(model_pfad)"
      ],
      "metadata": {
        "id": "V7l3-bjP-iV_"
      },
      "execution_count": null,
      "outputs": []
    },
    {
      "cell_type": "code",
      "source": [
        "validiere_model(model, X_train, y_train)"
      ],
      "metadata": {
        "id": "YeiBSNuZ-j_g"
      },
      "execution_count": null,
      "outputs": []
    },
    {
      "cell_type": "code",
      "source": [
        "validiere_model(model, X_val, y_val)"
      ],
      "metadata": {
        "id": "yaztCNQt0W0Q"
      },
      "execution_count": null,
      "outputs": []
    },
    {
      "cell_type": "code",
      "source": [
        "validiere_model(model, X_test, y_test)"
      ],
      "metadata": {
        "id": "AGdtpF6l0XRe"
      },
      "execution_count": null,
      "outputs": []
    },
    {
      "cell_type": "markdown",
      "source": [
        "# Plotte falsch klassifizierte Bilder"
      ],
      "metadata": {
        "id": "oBK1VL6E07Oy"
      }
    },
    {
      "cell_type": "code",
      "source": [
        "def plot_falsch_klassifizierte_bilder(model, X_data, y_data):\n",
        "    predictions = model.predict(X_data)\n",
        "    predicted_labels = np.argmax(predictions, axis=1)\n",
        "\n",
        "    falsch_klassifizierte_index = np.where(predicted_labels != y_data)[0]\n",
        "\n",
        "    for img_index in falsch_klassifizierte_index:\n",
        "        plt.figure()\n",
        "        plt.imshow(X_data[img_index])\n",
        "        plt.title(f\"True: {y_data[img_index]}, Predicted: {y_data[img_index]}\")\n",
        "        plt.axis('off')\n",
        "        plt.show()"
      ],
      "metadata": {
        "id": "BNPMSoMD0_A6"
      },
      "execution_count": null,
      "outputs": []
    },
    {
      "cell_type": "code",
      "source": [
        "plot_falsch_klassifizierte_bilder(model, X_train, y_train)"
      ],
      "metadata": {
        "id": "5PFa9w-n3AL4"
      },
      "execution_count": null,
      "outputs": []
    },
    {
      "cell_type": "code",
      "source": [
        "plot_falsch_klassifizierte_bilder(model, X_test, y_test)"
      ],
      "metadata": {
        "id": "9GF8nuaS3AJZ"
      },
      "execution_count": null,
      "outputs": []
    },
    {
      "cell_type": "code",
      "source": [
        "plot_falsch_klassifizierte_bilder(model, X_val, y_val)"
      ],
      "metadata": {
        "id": "v0Q765DE2_9D"
      },
      "execution_count": null,
      "outputs": []
    }
  ],
  "metadata": {
    "kernelspec": {
      "display_name": "Python 3",
      "name": "python3"
    },
    "language_info": {
      "codemirror_mode": {
        "name": "ipython",
        "version": 3
      },
      "file_extension": ".py",
      "mimetype": "text/x-python",
      "name": "python",
      "nbconvert_exporter": "python",
      "pygments_lexer": "ipython3",
      "version": "3.11.0"
    },
    "colab": {
      "provenance": [],
      "gpuType": "T4"
    },
    "accelerator": "GPU"
  },
  "nbformat": 4,
  "nbformat_minor": 0
}